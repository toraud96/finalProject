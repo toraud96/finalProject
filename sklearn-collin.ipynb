{
 "cells": [
  {
   "cell_type": "code",
   "execution_count": 1,
   "metadata": {},
   "outputs": [],
   "source": [
    "%matplotlib inline\n",
    "import pandas as pd\n",
    "import numpy as np\n",
    "import matplotlib.pyplot as plt\n",
    "import seaborn as sns\n",
    "from datetime import datetime\n",
    "\n",
    "from scipy.stats import skew\n",
    "from scipy.special import boxcox1p\n",
    "from scipy.stats import boxcox_normmax\n",
    "\n",
    "from sklearn.linear_model import ElasticNetCV, LassoCV, RidgeCV, LinearRegression\n",
    "from sklearn.ensemble import GradientBoostingRegressor\n",
    "from sklearn.svm import SVR\n",
    "from sklearn.pipeline import make_pipeline\n",
    "from sklearn.preprocessing import RobustScaler\n",
    "from sklearn.model_selection import KFold, cross_val_score\n",
    "from sklearn.metrics import mean_squared_error, mean_squared_log_error, mean_absolute_error\n",
    "from mlxtend.regressor import StackingCVRegressor\n",
    "from xgboost import XGBRegressor\n",
    "\n",
    "import warnings"
   ]
  },
  {
   "cell_type": "code",
   "execution_count": 2,
   "metadata": {},
   "outputs": [
    {
     "name": "stderr",
     "output_type": "stream",
     "text": [
      "C:\\Users\\Audelia\\Anaconda3\\lib\\site-packages\\IPython\\core\\interactiveshell.py:3058: DtypeWarning: Columns (8,11,13,24,25,28,30,31,32,43) have mixed types. Specify dtype option on import or set low_memory=False.\n",
      "  interactivity=interactivity, compiler=compiler, result=result)\n"
     ]
    }
   ],
   "source": [
    "mls = pd.read_csv('mls.csv')"
   ]
  },
  {
   "cell_type": "code",
   "execution_count": 3,
   "metadata": {},
   "outputs": [
    {
     "data": {
      "text/html": [
       "<div>\n",
       "<style scoped>\n",
       "    .dataframe tbody tr th:only-of-type {\n",
       "        vertical-align: middle;\n",
       "    }\n",
       "\n",
       "    .dataframe tbody tr th {\n",
       "        vertical-align: top;\n",
       "    }\n",
       "\n",
       "    .dataframe thead th {\n",
       "        text-align: right;\n",
       "    }\n",
       "</style>\n",
       "<table border=\"1\" class=\"dataframe\">\n",
       "  <thead>\n",
       "    <tr style=\"text-align: right;\">\n",
       "      <th></th>\n",
       "      <th>PostalCode</th>\n",
       "      <th>BathsFull</th>\n",
       "      <th>BathsHalf</th>\n",
       "      <th>BathsTotal</th>\n",
       "      <th>BedsTotal</th>\n",
       "      <th>CDOM</th>\n",
       "      <th>City</th>\n",
       "      <th>CloseDate</th>\n",
       "      <th>ClosePrice</th>\n",
       "      <th>CountyOrParish</th>\n",
       "      <th>...</th>\n",
       "      <th>StreetDirPrefix</th>\n",
       "      <th>StreetDirSuffix</th>\n",
       "      <th>StreetName</th>\n",
       "      <th>StreetNumber</th>\n",
       "      <th>StreetSuffix</th>\n",
       "      <th>ArchitecturalStyle</th>\n",
       "      <th>SubdivisionName</th>\n",
       "      <th>TaxLegalDescription</th>\n",
       "      <th>TransactionType</th>\n",
       "      <th>YearBuilt</th>\n",
       "    </tr>\n",
       "  </thead>\n",
       "  <tbody>\n",
       "    <tr>\n",
       "      <td>0</td>\n",
       "      <td>75002</td>\n",
       "      <td>2.0</td>\n",
       "      <td>0.0</td>\n",
       "      <td>2.0</td>\n",
       "      <td>3.0</td>\n",
       "      <td>19.0</td>\n",
       "      <td>Parker</td>\n",
       "      <td>1/16/2020</td>\n",
       "      <td>252500</td>\n",
       "      <td>Collin</td>\n",
       "      <td>...</td>\n",
       "      <td>Unknown</td>\n",
       "      <td>Unknown</td>\n",
       "      <td>Curtis</td>\n",
       "      <td>5903</td>\n",
       "      <td>Drive</td>\n",
       "      <td>Unknown</td>\n",
       "      <td>Martin Hearne Survey, Abst. 425</td>\n",
       "      <td>ABS A0425 MARTIN HEARNE SURVEY, TRACT 29, 1.0</td>\n",
       "      <td>For Sale</td>\n",
       "      <td>1970.0</td>\n",
       "    </tr>\n",
       "    <tr>\n",
       "      <td>1</td>\n",
       "      <td>75002</td>\n",
       "      <td>2.0</td>\n",
       "      <td>0.0</td>\n",
       "      <td>2.0</td>\n",
       "      <td>4.0</td>\n",
       "      <td>57.0</td>\n",
       "      <td>Parker</td>\n",
       "      <td>12/30/2019</td>\n",
       "      <td>343000</td>\n",
       "      <td>Collin</td>\n",
       "      <td>...</td>\n",
       "      <td>Unknown</td>\n",
       "      <td>Unknown</td>\n",
       "      <td>Kara</td>\n",
       "      <td>5406</td>\n",
       "      <td>Lane</td>\n",
       "      <td>Ranch</td>\n",
       "      <td>Easy Acres Lot #10</td>\n",
       "      <td>EASY ACRES (CPK), LOT 10</td>\n",
       "      <td>For Sale</td>\n",
       "      <td>1972.0</td>\n",
       "    </tr>\n",
       "    <tr>\n",
       "      <td>2</td>\n",
       "      <td>75002</td>\n",
       "      <td>1.0</td>\n",
       "      <td>1.0</td>\n",
       "      <td>1.1</td>\n",
       "      <td>3.0</td>\n",
       "      <td>24.0</td>\n",
       "      <td>Parker</td>\n",
       "      <td>2/28/2020</td>\n",
       "      <td>390000</td>\n",
       "      <td>Collin</td>\n",
       "      <td>...</td>\n",
       "      <td>E</td>\n",
       "      <td>Unknown</td>\n",
       "      <td>Parker</td>\n",
       "      <td>6908</td>\n",
       "      <td>Road</td>\n",
       "      <td>Traditional</td>\n",
       "      <td>None</td>\n",
       "      <td>ABS A0850 RICHARD SPARKS SURVEY, TRACT 24, 1.</td>\n",
       "      <td>For Sale</td>\n",
       "      <td>1967.0</td>\n",
       "    </tr>\n",
       "    <tr>\n",
       "      <td>3</td>\n",
       "      <td>75002</td>\n",
       "      <td>2.0</td>\n",
       "      <td>0.0</td>\n",
       "      <td>2.0</td>\n",
       "      <td>3.0</td>\n",
       "      <td>15.0</td>\n",
       "      <td>Lucas</td>\n",
       "      <td>2/28/2020</td>\n",
       "      <td>404000</td>\n",
       "      <td>Collin</td>\n",
       "      <td>...</td>\n",
       "      <td>E</td>\n",
       "      <td>Unknown</td>\n",
       "      <td>Parker</td>\n",
       "      <td>7403</td>\n",
       "      <td>Road</td>\n",
       "      <td>Traditional</td>\n",
       "      <td>Lewis P Turner Survey</td>\n",
       "      <td>ABS A0901 LEWIS P TURNER SURVEY, TRACT 2, 2.9</td>\n",
       "      <td>For Sale</td>\n",
       "      <td>1952.0</td>\n",
       "    </tr>\n",
       "    <tr>\n",
       "      <td>4</td>\n",
       "      <td>75002</td>\n",
       "      <td>3.0</td>\n",
       "      <td>0.0</td>\n",
       "      <td>3.0</td>\n",
       "      <td>4.0</td>\n",
       "      <td>18.0</td>\n",
       "      <td>Parker</td>\n",
       "      <td>3/12/2020</td>\n",
       "      <td>439900</td>\n",
       "      <td>Collin</td>\n",
       "      <td>...</td>\n",
       "      <td>Unknown</td>\n",
       "      <td>Unknown</td>\n",
       "      <td>Poco</td>\n",
       "      <td>6708</td>\n",
       "      <td>Drive</td>\n",
       "      <td>Ranch, Traditional</td>\n",
       "      <td>Poco Estados</td>\n",
       "      <td>POCO ESTADOS (CPK), LOT 16</td>\n",
       "      <td>For Sale</td>\n",
       "      <td>1976.0</td>\n",
       "    </tr>\n",
       "  </tbody>\n",
       "</table>\n",
       "<p>5 rows × 50 columns</p>\n",
       "</div>"
      ],
      "text/plain": [
       "   PostalCode  BathsFull  BathsHalf  BathsTotal  BedsTotal  CDOM    City  \\\n",
       "0       75002        2.0        0.0         2.0        3.0  19.0  Parker   \n",
       "1       75002        2.0        0.0         2.0        4.0  57.0  Parker   \n",
       "2       75002        1.0        1.0         1.1        3.0  24.0  Parker   \n",
       "3       75002        2.0        0.0         2.0        3.0  15.0   Lucas   \n",
       "4       75002        3.0        0.0         3.0        4.0  18.0  Parker   \n",
       "\n",
       "    CloseDate ClosePrice CountyOrParish  ...  StreetDirPrefix StreetDirSuffix  \\\n",
       "0   1/16/2020     252500         Collin  ...          Unknown         Unknown   \n",
       "1  12/30/2019     343000         Collin  ...          Unknown         Unknown   \n",
       "2   2/28/2020     390000         Collin  ...                E         Unknown   \n",
       "3   2/28/2020     404000         Collin  ...                E         Unknown   \n",
       "4   3/12/2020     439900         Collin  ...          Unknown         Unknown   \n",
       "\n",
       "  StreetName StreetNumber StreetSuffix  ArchitecturalStyle  \\\n",
       "0     Curtis         5903        Drive             Unknown   \n",
       "1       Kara         5406         Lane               Ranch   \n",
       "2     Parker         6908         Road         Traditional   \n",
       "3     Parker         7403         Road         Traditional   \n",
       "4       Poco         6708        Drive  Ranch, Traditional   \n",
       "\n",
       "                   SubdivisionName  \\\n",
       "0  Martin Hearne Survey, Abst. 425   \n",
       "1               Easy Acres Lot #10   \n",
       "2                             None   \n",
       "3            Lewis P Turner Survey   \n",
       "4                     Poco Estados   \n",
       "\n",
       "                             TaxLegalDescription TransactionType YearBuilt  \n",
       "0  ABS A0425 MARTIN HEARNE SURVEY, TRACT 29, 1.0        For Sale    1970.0  \n",
       "1                       EASY ACRES (CPK), LOT 10        For Sale    1972.0  \n",
       "2  ABS A0850 RICHARD SPARKS SURVEY, TRACT 24, 1.        For Sale    1967.0  \n",
       "3  ABS A0901 LEWIS P TURNER SURVEY, TRACT 2, 2.9        For Sale    1952.0  \n",
       "4                     POCO ESTADOS (CPK), LOT 16        For Sale    1976.0  \n",
       "\n",
       "[5 rows x 50 columns]"
      ]
     },
     "execution_count": 3,
     "metadata": {},
     "output_type": "execute_result"
    }
   ],
   "source": [
    "mls.head()"
   ]
  },
  {
   "cell_type": "code",
   "execution_count": 4,
   "metadata": {},
   "outputs": [],
   "source": [
    "mls=mls.drop(columns=['BathsFull', 'BathsHalf', 'CDOM', 'ElementarySchoolName', 'HighSchoolName', 'AssociationType', 'LotFeatures', 'LotSize', 'Occupancy', 'ParcelNumber', 'PropertySubType', 'PropertyType', 'StreetDirPrefix', 'StreetDirSuffix', 'StreetName', 'StreetNumber', 'StreetSuffix', 'ArchitecturalStyle', 'SubdivisionName', 'TaxLegalDescription', 'TransactionType'])\n",
    "# mls.head()"
   ]
  },
  {
   "cell_type": "code",
   "execution_count": 5,
   "metadata": {},
   "outputs": [
    {
     "data": {
      "text/html": [
       "<div>\n",
       "<style scoped>\n",
       "    .dataframe tbody tr th:only-of-type {\n",
       "        vertical-align: middle;\n",
       "    }\n",
       "\n",
       "    .dataframe tbody tr th {\n",
       "        vertical-align: top;\n",
       "    }\n",
       "\n",
       "    .dataframe thead th {\n",
       "        text-align: right;\n",
       "    }\n",
       "</style>\n",
       "<table border=\"1\" class=\"dataframe\">\n",
       "  <thead>\n",
       "    <tr style=\"text-align: right;\">\n",
       "      <th></th>\n",
       "      <th>PostalCode</th>\n",
       "      <th>BathsTotal</th>\n",
       "      <th>BedsTotal</th>\n",
       "      <th>City</th>\n",
       "      <th>CloseDate</th>\n",
       "      <th>ClosePrice</th>\n",
       "      <th>CountyOrParish</th>\n",
       "      <th>CurrentPrice</th>\n",
       "      <th>DOM</th>\n",
       "      <th>FireplacesTotal</th>\n",
       "      <th>...</th>\n",
       "      <th>OriginalListPrice</th>\n",
       "      <th>ParkingSpacesCarport</th>\n",
       "      <th>ParkingSpacesGarage</th>\n",
       "      <th>PoolYN</th>\n",
       "      <th>PrimarySchoolName</th>\n",
       "      <th>SchoolDistrict</th>\n",
       "      <th>SqFtTotal</th>\n",
       "      <th>Status</th>\n",
       "      <th>StatusChangeTimestamp</th>\n",
       "      <th>YearBuilt</th>\n",
       "    </tr>\n",
       "  </thead>\n",
       "  <tbody>\n",
       "    <tr>\n",
       "      <td>0</td>\n",
       "      <td>75002</td>\n",
       "      <td>2.0</td>\n",
       "      <td>3.0</td>\n",
       "      <td>Parker</td>\n",
       "      <td>1/16/2020</td>\n",
       "      <td>252500</td>\n",
       "      <td>Collin</td>\n",
       "      <td>252500.0</td>\n",
       "      <td>19.0</td>\n",
       "      <td>0.0</td>\n",
       "      <td>...</td>\n",
       "      <td>250000</td>\n",
       "      <td>1.0</td>\n",
       "      <td>4</td>\n",
       "      <td>False</td>\n",
       "      <td>Unknown</td>\n",
       "      <td>Plano ISD</td>\n",
       "      <td>1064.0</td>\n",
       "      <td>Sold</td>\n",
       "      <td>1/17/2020 8:13</td>\n",
       "      <td>1970.0</td>\n",
       "    </tr>\n",
       "    <tr>\n",
       "      <td>1</td>\n",
       "      <td>75002</td>\n",
       "      <td>2.0</td>\n",
       "      <td>4.0</td>\n",
       "      <td>Parker</td>\n",
       "      <td>12/30/2019</td>\n",
       "      <td>343000</td>\n",
       "      <td>Collin</td>\n",
       "      <td>343000.0</td>\n",
       "      <td>57.0</td>\n",
       "      <td>1.0</td>\n",
       "      <td>...</td>\n",
       "      <td>354900</td>\n",
       "      <td>0.0</td>\n",
       "      <td>0</td>\n",
       "      <td>False</td>\n",
       "      <td>Unknown</td>\n",
       "      <td>Plano ISD</td>\n",
       "      <td>1953.0</td>\n",
       "      <td>Sold</td>\n",
       "      <td>12/31/2019 9:04</td>\n",
       "      <td>1972.0</td>\n",
       "    </tr>\n",
       "    <tr>\n",
       "      <td>2</td>\n",
       "      <td>75002</td>\n",
       "      <td>1.1</td>\n",
       "      <td>3.0</td>\n",
       "      <td>Parker</td>\n",
       "      <td>2/28/2020</td>\n",
       "      <td>390000</td>\n",
       "      <td>Collin</td>\n",
       "      <td>390000.0</td>\n",
       "      <td>24.0</td>\n",
       "      <td>0.0</td>\n",
       "      <td>...</td>\n",
       "      <td>389900</td>\n",
       "      <td>0.0</td>\n",
       "      <td>4</td>\n",
       "      <td>False</td>\n",
       "      <td>Unknown</td>\n",
       "      <td>Plano ISD</td>\n",
       "      <td>1452.0</td>\n",
       "      <td>Sold</td>\n",
       "      <td>3/3/2020 12:44</td>\n",
       "      <td>1967.0</td>\n",
       "    </tr>\n",
       "    <tr>\n",
       "      <td>3</td>\n",
       "      <td>75002</td>\n",
       "      <td>2.0</td>\n",
       "      <td>3.0</td>\n",
       "      <td>Lucas</td>\n",
       "      <td>2/28/2020</td>\n",
       "      <td>404000</td>\n",
       "      <td>Collin</td>\n",
       "      <td>404000.0</td>\n",
       "      <td>15.0</td>\n",
       "      <td>1.0</td>\n",
       "      <td>...</td>\n",
       "      <td>404000</td>\n",
       "      <td>2.0</td>\n",
       "      <td>0</td>\n",
       "      <td>False</td>\n",
       "      <td>Unknown</td>\n",
       "      <td>Plano ISD</td>\n",
       "      <td>1793.0</td>\n",
       "      <td>Sold</td>\n",
       "      <td>3/3/2020 12:50</td>\n",
       "      <td>1952.0</td>\n",
       "    </tr>\n",
       "    <tr>\n",
       "      <td>4</td>\n",
       "      <td>75002</td>\n",
       "      <td>3.0</td>\n",
       "      <td>4.0</td>\n",
       "      <td>Parker</td>\n",
       "      <td>3/12/2020</td>\n",
       "      <td>439900</td>\n",
       "      <td>Collin</td>\n",
       "      <td>439900.0</td>\n",
       "      <td>18.0</td>\n",
       "      <td>1.0</td>\n",
       "      <td>...</td>\n",
       "      <td>439900</td>\n",
       "      <td>0.0</td>\n",
       "      <td>2</td>\n",
       "      <td>False</td>\n",
       "      <td>Unknown</td>\n",
       "      <td>Plano ISD</td>\n",
       "      <td>2308.0</td>\n",
       "      <td>Sold</td>\n",
       "      <td>3/19/2020 11:53</td>\n",
       "      <td>1976.0</td>\n",
       "    </tr>\n",
       "  </tbody>\n",
       "</table>\n",
       "<p>5 rows × 29 columns</p>\n",
       "</div>"
      ],
      "text/plain": [
       "   PostalCode  BathsTotal  BedsTotal    City   CloseDate ClosePrice  \\\n",
       "0       75002         2.0        3.0  Parker   1/16/2020     252500   \n",
       "1       75002         2.0        4.0  Parker  12/30/2019     343000   \n",
       "2       75002         1.1        3.0  Parker   2/28/2020     390000   \n",
       "3       75002         2.0        3.0   Lucas   2/28/2020     404000   \n",
       "4       75002         3.0        4.0  Parker   3/12/2020     439900   \n",
       "\n",
       "  CountyOrParish  CurrentPrice   DOM FireplacesTotal  ... OriginalListPrice  \\\n",
       "0         Collin      252500.0  19.0             0.0  ...            250000   \n",
       "1         Collin      343000.0  57.0             1.0  ...            354900   \n",
       "2         Collin      390000.0  24.0             0.0  ...            389900   \n",
       "3         Collin      404000.0  15.0             1.0  ...            404000   \n",
       "4         Collin      439900.0  18.0             1.0  ...            439900   \n",
       "\n",
       "   ParkingSpacesCarport ParkingSpacesGarage PoolYN PrimarySchoolName  \\\n",
       "0                   1.0                   4  False           Unknown   \n",
       "1                   0.0                   0  False           Unknown   \n",
       "2                   0.0                   4  False           Unknown   \n",
       "3                   2.0                   0  False           Unknown   \n",
       "4                   0.0                   2  False           Unknown   \n",
       "\n",
       "   SchoolDistrict SqFtTotal Status  StatusChangeTimestamp YearBuilt  \n",
       "0       Plano ISD    1064.0   Sold         1/17/2020 8:13    1970.0  \n",
       "1       Plano ISD    1953.0   Sold        12/31/2019 9:04    1972.0  \n",
       "2       Plano ISD    1452.0   Sold         3/3/2020 12:44    1967.0  \n",
       "3       Plano ISD    1793.0   Sold         3/3/2020 12:50    1952.0  \n",
       "4       Plano ISD    2308.0   Sold        3/19/2020 11:53    1976.0  \n",
       "\n",
       "[5 rows x 29 columns]"
      ]
     },
     "execution_count": 5,
     "metadata": {},
     "output_type": "execute_result"
    }
   ],
   "source": [
    "mls=mls[mls.ClosePrice != 'Unknown']\n",
    "mls=mls[mls.DOM != 'Unknown']\n",
    "mls['DOM'] = mls['DOM'].astype(float)\n",
    "mls.head()"
   ]
  },
  {
   "cell_type": "code",
   "execution_count": 6,
   "metadata": {},
   "outputs": [
    {
     "name": "stdout",
     "output_type": "stream",
     "text": [
      "<class 'pandas.core.frame.DataFrame'>\n",
      "Int64Index: 205212 entries, 0 to 205254\n",
      "Data columns (total 29 columns):\n",
      "PostalCode               205212 non-null int64\n",
      "BathsTotal               205212 non-null float64\n",
      "BedsTotal                205212 non-null float64\n",
      "City                     205212 non-null object\n",
      "CloseDate                205212 non-null object\n",
      "ClosePrice               205212 non-null object\n",
      "CountyOrParish           205212 non-null object\n",
      "CurrentPrice             205212 non-null float64\n",
      "DOM                      205212 non-null float64\n",
      "FireplacesTotal          205212 non-null object\n",
      "StructuralStyle          205212 non-null object\n",
      "ListPrice                205212 non-null float64\n",
      "ListingContractDate      205212 non-null object\n",
      "LotSizeArea              205212 non-null object\n",
      "MiddleSchoolName         205212 non-null object\n",
      "MLSNumber                205212 non-null float64\n",
      "NumberOfDiningAreas      205212 non-null object\n",
      "NumberOfLivingAreas      205212 non-null object\n",
      "NumberOfStories          205212 non-null float64\n",
      "OriginalListPrice        205212 non-null object\n",
      "ParkingSpacesCarport     205212 non-null object\n",
      "ParkingSpacesGarage      205212 non-null object\n",
      "PoolYN                   205212 non-null object\n",
      "PrimarySchoolName        205212 non-null object\n",
      "SchoolDistrict           205212 non-null object\n",
      "SqFtTotal                205212 non-null float64\n",
      "Status                   205212 non-null object\n",
      "StatusChangeTimestamp    205212 non-null object\n",
      "YearBuilt                205212 non-null float64\n",
      "dtypes: float64(9), int64(1), object(19)\n",
      "memory usage: 47.0+ MB\n"
     ]
    }
   ],
   "source": [
    "mls.info()"
   ]
  },
  {
   "cell_type": "code",
   "execution_count": 7,
   "metadata": {
    "scrolled": true
   },
   "outputs": [
    {
     "data": {
      "text/plain": [
       "PostalCode               0\n",
       "BathsTotal               0\n",
       "BedsTotal                0\n",
       "City                     0\n",
       "CloseDate                0\n",
       "ClosePrice               0\n",
       "CountyOrParish           0\n",
       "CurrentPrice             0\n",
       "DOM                      0\n",
       "FireplacesTotal          0\n",
       "StructuralStyle          0\n",
       "ListPrice                0\n",
       "ListingContractDate      0\n",
       "LotSizeArea              0\n",
       "MiddleSchoolName         0\n",
       "MLSNumber                0\n",
       "NumberOfDiningAreas      0\n",
       "NumberOfLivingAreas      0\n",
       "NumberOfStories          0\n",
       "OriginalListPrice        0\n",
       "ParkingSpacesCarport     0\n",
       "ParkingSpacesGarage      0\n",
       "PoolYN                   0\n",
       "PrimarySchoolName        0\n",
       "SchoolDistrict           0\n",
       "SqFtTotal                0\n",
       "Status                   0\n",
       "StatusChangeTimestamp    0\n",
       "YearBuilt                0\n",
       "dtype: int64"
      ]
     },
     "execution_count": 7,
     "metadata": {},
     "output_type": "execute_result"
    }
   ],
   "source": [
    "mls.isnull().sum()"
   ]
  },
  {
   "cell_type": "code",
   "execution_count": 8,
   "metadata": {},
   "outputs": [
    {
     "name": "stdout",
     "output_type": "stream",
     "text": [
      "Shape:  (205212, 1) (205212, 1)\n"
     ]
    },
    {
     "data": {
      "text/plain": [
       "array([[19.],\n",
       "       [57.],\n",
       "       [24.],\n",
       "       ...,\n",
       "       [22.],\n",
       "       [ 0.],\n",
       "       [ 8.]])"
      ]
     },
     "execution_count": 8,
     "metadata": {},
     "output_type": "execute_result"
    }
   ],
   "source": [
    "X = mls.DOM.values.reshape(-1, 1)\n",
    "y = mls.ClosePrice.values.reshape(-1, 1)\n",
    "\n",
    "print(\"Shape: \", X.shape, y.shape)\n",
    "X"
   ]
  },
  {
   "cell_type": "code",
   "execution_count": 9,
   "metadata": {},
   "outputs": [
    {
     "data": {
      "text/plain": [
       "<matplotlib.collections.PathCollection at 0x193574758c8>"
      ]
     },
     "execution_count": 9,
     "metadata": {},
     "output_type": "execute_result"
    },
    {
     "data": {
      "image/png": "[encoded data removed]",
      "text/plain": [
       "<Figure size 432x288 with 1 Axes>"
      ]
     },
     "metadata": {
      "needs_background": "light"
     },
     "output_type": "display_data"
    }
   ],
   "source": [
    "plt.scatter(X, y)"
   ]
  },
  {
   "cell_type": "code",
   "execution_count": 10,
   "metadata": {},
   "outputs": [],
   "source": [
    "model = LinearRegression()"
   ]
  },
  {
   "cell_type": "code",
   "execution_count": 11,
   "metadata": {},
   "outputs": [
    {
     "data": {
      "text/plain": [
       "LinearRegression(copy_X=True, fit_intercept=True, n_jobs=None, normalize=False)"
      ]
     },
     "execution_count": 11,
     "metadata": {},
     "output_type": "execute_result"
    }
   ],
   "source": [
    "model.fit(X, y)"
   ]
  },
  {
   "cell_type": "code",
   "execution_count": 12,
   "metadata": {},
   "outputs": [
    {
     "name": "stdout",
     "output_type": "stream",
     "text": [
      "Weight coefficients:  [[271.54457566]]\n",
      "y-axis intercept:  [257737.42416042]\n"
     ]
    }
   ],
   "source": [
    "### BEGIN SOLUTION\n",
    "print('Weight coefficients: ', model.coef_)\n",
    "print('y-axis intercept: ', model.intercept_)"
   ]
  },
  {
   "cell_type": "code",
   "execution_count": 13,
   "metadata": {},
   "outputs": [
    {
     "name": "stdout",
     "output_type": "stream",
     "text": [
      "Min X Value: [[-97.]]\n",
      "Max X Value: [[1649.]]\n"
     ]
    }
   ],
   "source": [
    "x_min = np.array([[X.astype(float).min()]])\n",
    "x_max = np.array([[X.astype(float).max()]])\n",
    "print(f\"Min X Value: {x_min}\")\n",
    "print(f\"Max X Value: {x_max}\")"
   ]
  },
  {
   "cell_type": "code",
   "execution_count": 14,
   "metadata": {},
   "outputs": [],
   "source": [
    "y_min = model.predict(x_min)\n",
    "y_max = model.predict(x_max)"
   ]
  },
  {
   "cell_type": "code",
   "execution_count": 15,
   "metadata": {},
   "outputs": [
    {
     "data": {
      "text/plain": [
       "[<matplotlib.lines.Line2D at 0x193574a7748>]"
      ]
     },
     "execution_count": 15,
     "metadata": {},
     "output_type": "execute_result"
    },
    {
     "data": {
      "image/png": "[encoded data removed]",
      "text/plain": [
       "<Figure size 432x288 with 1 Axes>"
      ]
     },
     "metadata": {
      "needs_background": "light"
     },
     "output_type": "display_data"
    }
   ],
   "source": [
    "### BEGIN SOLUTION\n",
    "plt.scatter(X, y, c='blue')\n",
    "plt.plot([x_min[0], x_max[0]], [y_min[0], y_max[0]], c='red')"
   ]
  },
  {
   "cell_type": "code",
   "execution_count": null,
   "metadata": {},
   "outputs": [],
   "source": []
  }
 ],
 "metadata": {
  "kernelspec": {
   "display_name": "Python 3",
   "language": "python",
   "name": "python3"
  },
  "language_info": {
   "codemirror_mode": {
    "name": "ipython",
    "version": 3
   },
   "file_extension": ".py",
   "mimetype": "text/x-python",
   "name": "python",
   "nbconvert_exporter": "python",
   "pygments_lexer": "ipython3",
   "version": "3.7.4"
  }
 },
 "nbformat": 4,
 "nbformat_minor": 2
}
